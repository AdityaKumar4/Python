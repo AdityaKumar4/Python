{
 "cells": [
  {
   "cell_type": "code",
   "execution_count": 2,
   "metadata": {},
   "outputs": [
    {
     "name": "stdout",
     "output_type": "stream",
     "text": [
      "The multiple of 15 in list are :  [0, 15, 30, 45, 60, 75, 90]\n",
      "The multiple of 3 in list are :  [3, 6, 9, 12, 18, 21, 24, 27, 33, 36, 39, 42, 48, 51, 54, 57, 63, 66, 69, 72, 78, 81, 84, 87, 93, 96, 99]\n",
      "The multiple of 5 in list are :  [5, 10, 20, 25, 35, 40, 50, 55, 65, 70, 80, 85, 95, 100]\n"
     ]
    }
   ],
   "source": [
    "pandra=[]\n",
    "teen=[]\n",
    "paanch=[]\n",
    "\n",
    "for num in range (0, 101):\n",
    "    if (num%3==0 and num %5==0):\n",
    "        pandra.append(num)\n",
    "    elif (num%3==0):\n",
    "        teen.append(num)\n",
    "    elif (num%5==0):\n",
    "        paanch.append(num)\n",
    "        \n",
    "print(\"The multiple of 15 in list are : \", pandra)\n",
    "print(\"The multiple of 3 in list are : \", teen)\n",
    "print(\"The multiple of 5 in list are : \", paanch)"
   ]
  },
  {
   "cell_type": "code",
   "execution_count": null,
   "metadata": {},
   "outputs": [],
   "source": []
  },
  {
   "cell_type": "code",
   "execution_count": null,
   "metadata": {},
   "outputs": [],
   "source": []
  }
 ],
 "metadata": {
  "kernelspec": {
   "display_name": "Python 3",
   "language": "python",
   "name": "python3"
  },
  "language_info": {
   "codemirror_mode": {
    "name": "ipython",
    "version": 3
   },
   "file_extension": ".py",
   "mimetype": "text/x-python",
   "name": "python",
   "nbconvert_exporter": "python",
   "pygments_lexer": "ipython3",
   "version": "3.7.3"
  }
 },
 "nbformat": 4,
 "nbformat_minor": 2
}
