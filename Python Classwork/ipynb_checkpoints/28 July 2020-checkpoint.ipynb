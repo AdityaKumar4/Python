{
 "cells": [
  {
   "cell_type": "code",
   "execution_count": 13,
   "metadata": {},
   "outputs": [],
   "source": [
    "def add(num1, num2, num3):\n",
    "    \n",
    "    try:\n",
    "        result = num1+num2+num3\n",
    "    \n",
    "    except TypeError:\n",
    "        print('There is a type error...')\n",
    "    except:\n",
    "        print('I dont know what error you are making')\n",
    "        \n",
    "    else:\n",
    "        print('Addition done sucessfully.')\n",
    "        print(result)\n",
    "        \n",
    "    finally:\n",
    "        print('You should be doing it in your mind.')"
   ]
  },
  {
   "cell_type": "code",
   "execution_count": 14,
   "metadata": {},
   "outputs": [
    {
     "name": "stdout",
     "output_type": "stream",
     "text": [
      "Addition done sucessfully.\n",
      "6\n",
      "You should be doing it in your mind.\n"
     ]
    }
   ],
   "source": [
    "a=1\n",
    "b=2\n",
    "c=3\n",
    "add(a, b, c)"
   ]
  },
  {
   "cell_type": "code",
   "execution_count": 15,
   "metadata": {},
   "outputs": [
    {
     "name": "stdout",
     "output_type": "stream",
     "text": [
      "There is a type error...\n",
      "You should be doing it in your mind.\n"
     ]
    }
   ],
   "source": [
    "x=3\n",
    "y=5\n",
    "z='q'\n",
    "add(x, y, z)"
   ]
  },
  {
   "cell_type": "code",
   "execution_count": null,
   "metadata": {},
   "outputs": [],
   "source": []
  },
  {
   "cell_type": "code",
   "execution_count": 18,
   "metadata": {},
   "outputs": [],
   "source": [
    "def func():\n",
    "    \n",
    "    try:\n",
    "        f = open('testfile', 'r')\n",
    "        f.write('Written a test line')\n",
    "        \n",
    "    except TypeError:\n",
    "        print('There is a type error')\n",
    "    except OSError:\n",
    "        print(\"Hey there is an os error!\")\n",
    "        \n",
    "    else:\n",
    "        print('File editted sucessfully')\n",
    "        \n",
    "    finally:\n",
    "        print('Keep on coding')"
   ]
  },
  {
   "cell_type": "code",
   "execution_count": 19,
   "metadata": {},
   "outputs": [
    {
     "name": "stdout",
     "output_type": "stream",
     "text": [
      "Hey there is an os error!\n",
      "Keep on coding\n"
     ]
    }
   ],
   "source": [
    "func()"
   ]
  },
  {
   "cell_type": "code",
   "execution_count": null,
   "metadata": {},
   "outputs": [],
   "source": []
  },
  {
   "cell_type": "code",
   "execution_count": null,
   "metadata": {},
   "outputs": [],
   "source": []
  },
  {
   "cell_type": "code",
   "execution_count": 20,
   "metadata": {},
   "outputs": [],
   "source": [
    "def ask_for_int():\n",
    "    while True:\n",
    "        try:\n",
    "            num = int(input(\"Enter the number: \"))\n",
    "        except:\n",
    "            print(\"Please enter a number!\")\n",
    "        else:\n",
    "            print('Number was sucessfully recorded')\n",
    "            break\n",
    "        finally:\n",
    "            print(\"I'll run, no matter what \\n\\n\")"
   ]
  },
  {
   "cell_type": "code",
   "execution_count": 21,
   "metadata": {},
   "outputs": [
    {
     "name": "stdout",
     "output_type": "stream",
     "text": [
      "Enter the number: q\n",
      "Please enter a number!\n",
      "I'll run, no matter what \n",
      "\n",
      "\n",
      "Enter the number: w\n",
      "Please enter a number!\n",
      "I'll run, no matter what \n",
      "\n",
      "\n",
      "Enter the number: r\n",
      "Please enter a number!\n",
      "I'll run, no matter what \n",
      "\n",
      "\n",
      "Enter the number: 2\n",
      "Number was sucessfully recorded\n",
      "I'll run, no matter what \n",
      "\n",
      "\n"
     ]
    }
   ],
   "source": [
    "ask_for_int()"
   ]
  },
  {
   "cell_type": "code",
   "execution_count": null,
   "metadata": {},
   "outputs": [],
   "source": []
  }
 ],
 "metadata": {
  "kernelspec": {
   "display_name": "Python 3",
   "language": "python",
   "name": "python3"
  },
  "language_info": {
   "codemirror_mode": {
    "name": "ipython",
    "version": 3
   },
   "file_extension": ".py",
   "mimetype": "text/x-python",
   "name": "python",
   "nbconvert_exporter": "python",
   "pygments_lexer": "ipython3",
   "version": "3.7.3"
  }
 },
 "nbformat": 4,
 "nbformat_minor": 2
}
