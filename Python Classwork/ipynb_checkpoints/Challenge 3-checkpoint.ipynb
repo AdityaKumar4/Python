{
 "cells": [
  {
   "cell_type": "markdown",
   "metadata": {},
   "source": [
    "Q1"
   ]
  },
  {
   "cell_type": "code",
   "execution_count": 5,
   "metadata": {},
   "outputs": [
    {
     "name": "stdout",
     "output_type": "stream",
     "text": [
      "Enter the string : Singing\n",
      "Singingly\n"
     ]
    }
   ],
   "source": [
    "string = input(\"Enter the string : \")\n",
    "\n",
    "if (len(string)<3):\n",
    "    print(string)\n",
    "else:\n",
    "    if ('ing' in string):\n",
    "        print(string + 'ly')\n",
    "    else:\n",
    "        print(string + 'ing')\n"
   ]
  },
  {
   "cell_type": "code",
   "execution_count": null,
   "metadata": {},
   "outputs": [],
   "source": []
  },
  {
   "cell_type": "markdown",
   "metadata": {},
   "source": [
    "Q2"
   ]
  },
  {
   "cell_type": "code",
   "execution_count": 14,
   "metadata": {},
   "outputs": [
    {
     "name": "stdout",
     "output_type": "stream",
     "text": [
      "Enter string 1 : saddi\n",
      "Enter string 2 : hapma\n",
      "sadhapdima\n"
     ]
    }
   ],
   "source": [
    "str1 = input(\"Enter string 1 : \")\n",
    "str2 = input(\"Enter string 2 : \")\n",
    "\n",
    "x=int(len(str1)/2)\n",
    "y=int(len(str2)/2)\n",
    "\n",
    "str1_left = str1[:x+1]\n",
    "str1_right = str1[x+1:]\n",
    "str2_left = str2[:y+1]\n",
    "str2_right = str2[y+1:]\n",
    "\n",
    "print(str1_left+str2_left+str1_right+str2_right)"
   ]
  },
  {
   "cell_type": "code",
   "execution_count": null,
   "metadata": {},
   "outputs": [],
   "source": []
  },
  {
   "cell_type": "markdown",
   "metadata": {},
   "source": [
    "Q3"
   ]
  },
  {
   "cell_type": "code",
   "execution_count": 17,
   "metadata": {},
   "outputs": [
    {
     "name": "stdout",
     "output_type": "stream",
     "text": [
      "876001\n",
      "543903\n",
      "2453896\n"
     ]
    }
   ],
   "source": [
    "salaries = ['$876,001', '$543,903', '$2453,896'] \n",
    "\n",
    "for pay in salaries:\n",
    "    pay = pay.replace('$', '')\n",
    "    pay = pay.replace(',', '')\n",
    "    print(pay)"
   ]
  },
  {
   "cell_type": "code",
   "execution_count": null,
   "metadata": {},
   "outputs": [],
   "source": []
  },
  {
   "cell_type": "markdown",
   "metadata": {},
   "source": [
    "Q4"
   ]
  },
  {
   "cell_type": "code",
   "execution_count": 96,
   "metadata": {},
   "outputs": [
    {
     "name": "stdout",
     "output_type": "stream",
     "text": [
      "Enter a number : 5\n",
      "* \n",
      "* * \n",
      "* * * \n",
      "* * * * \n",
      "* * * * * \n",
      "* * * * \n",
      "* * * \n",
      "* * \n",
      "* \n"
     ]
    }
   ],
   "source": [
    "n = int(input(\"Enter a number : \"))\n",
    "\n",
    "\n",
    "for i in range(0, n):\n",
    "    print(\"* \"*(i+1))\n",
    "    \n",
    "for i in range(n-1, 0, -1):\n",
    "    print(\"* \"*(i))\n"
   ]
  },
  {
   "cell_type": "code",
   "execution_count": 89,
   "metadata": {},
   "outputs": [
    {
     "data": {
      "text/plain": [
       "[5, 4, 3, 2, 1]"
      ]
     },
     "execution_count": 89,
     "metadata": {},
     "output_type": "execute_result"
    }
   ],
   "source": [
    "list(range(5, 0, -1))"
   ]
  },
  {
   "cell_type": "markdown",
   "metadata": {},
   "source": [
    "Q5"
   ]
  },
  {
   "cell_type": "code",
   "execution_count": 65,
   "metadata": {},
   "outputs": [
    {
     "name": "stdout",
     "output_type": "stream",
     "text": [
      "['lbm', 'clfrn', 'klhm', 'flrd']\n"
     ]
    }
   ],
   "source": [
    "state_name=[ 'Alabama', 'California', 'Oklahoma', 'Florida']\n",
    "vovels=['a', 'e', 'i', 'o', 'u']\n",
    "list_s=[]\n",
    "\n",
    "for name in state_name:\n",
    "    name = name.lower()\n",
    "    \n",
    "    for v in vovels:\n",
    "        if(v in name):\n",
    "            name = name.replace(v, '')\n",
    "    list_s=list_s+[name]\n",
    "    \n",
    "print(list_s)"
   ]
  },
  {
   "cell_type": "code",
   "execution_count": null,
   "metadata": {},
   "outputs": [],
   "source": []
  },
  {
   "cell_type": "markdown",
   "metadata": {},
   "source": [
    "Q6"
   ]
  },
  {
   "cell_type": "code",
   "execution_count": 106,
   "metadata": {},
   "outputs": [
    {
     "name": "stdout",
     "output_type": "stream",
     "text": [
      "Enter the number : 1\n",
      "Enter the number : 2\n",
      "Enter the number : 3\n",
      "Enter the number : 4\n",
      "Enter the number : \n",
      "[1, 2, 3, 4]\n",
      "The sum of all the numbers is :  10\n",
      "The average is :  2.5\n",
      "The minimum number is :  1\n",
      "The maximum number is :  4\n"
     ]
    }
   ],
   "source": [
    "num_list = []\n",
    "total=0\n",
    "\n",
    "while(y==2):\n",
    "    x= input('Enter the number : ')\n",
    "    if (x!=''):\n",
    "        x=int(x)\n",
    "        num_list= num_list+[x]\n",
    "        total=total+x\n",
    "    else:\n",
    "        break\n",
    "\n",
    "print(num_list)\n",
    "n=len(num_list)\n",
    "print(\"The sum of all the numbers is : \", total)\n",
    "print(\"The average is : \", total/n)\n",
    "print(\"The minimum number is : \", min(num_list))\n",
    "print(\"The maximum number is : \", max(num_list))"
   ]
  }
 ],
 "metadata": {
  "kernelspec": {
   "display_name": "Python 3",
   "language": "python",
   "name": "python3"
  },
  "language_info": {
   "codemirror_mode": {
    "name": "ipython",
    "version": 3
   },
   "file_extension": ".py",
   "mimetype": "text/x-python",
   "name": "python",
   "nbconvert_exporter": "python",
   "pygments_lexer": "ipython3",
   "version": "3.7.3"
  }
 },
 "nbformat": 4,
 "nbformat_minor": 2
}
