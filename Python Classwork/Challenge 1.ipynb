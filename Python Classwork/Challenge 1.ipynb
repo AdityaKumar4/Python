{
 "cells": [
  {
   "cell_type": "markdown",
   "metadata": {},
   "source": [
    "Q1"
   ]
  },
  {
   "cell_type": "code",
   "execution_count": 1,
   "metadata": {},
   "outputs": [
    {
     "name": "stdout",
     "output_type": "stream",
     "text": [
      "31\n",
      "16\n"
     ]
    }
   ],
   "source": [
    "age=21\n",
    "\n",
    "print(age+10)\n",
    "print(age-5)"
   ]
  },
  {
   "cell_type": "code",
   "execution_count": 3,
   "metadata": {},
   "outputs": [
    {
     "name": "stdout",
     "output_type": "stream",
     "text": [
      "Enter your age:55\n",
      "65\n",
      "50\n"
     ]
    }
   ],
   "source": [
    "age=int(input(\"Enter your age:\"))\n",
    "\n",
    "print(age+10)\n",
    "print(age-5)"
   ]
  },
  {
   "cell_type": "code",
   "execution_count": null,
   "metadata": {},
   "outputs": [],
   "source": []
  },
  {
   "cell_type": "markdown",
   "metadata": {},
   "source": [
    "Q2"
   ]
  },
  {
   "cell_type": "code",
   "execution_count": 8,
   "metadata": {},
   "outputs": [
    {
     "name": "stdout",
     "output_type": "stream",
     "text": [
      "Height in meter :  2.0193999999999996\n",
      "Height in cm :  201.93999999999997\n"
     ]
    }
   ],
   "source": [
    "height_f = 5\n",
    "height_i = 11\n",
    "\n",
    "height_m = (height_f*0.348)+(height_i*0.0254)\n",
    "print('Height in meter : ', height_m)\n",
    "print('Height in cm : ', height_m*100)"
   ]
  },
  {
   "cell_type": "code",
   "execution_count": null,
   "metadata": {},
   "outputs": [],
   "source": []
  },
  {
   "cell_type": "markdown",
   "metadata": {},
   "source": [
    "Q3"
   ]
  },
  {
   "cell_type": "code",
   "execution_count": 9,
   "metadata": {},
   "outputs": [
    {
     "name": "stdout",
     "output_type": "stream",
     "text": [
      "Enter you height in meters : 1.85\n",
      "Enter you weight in kg : 81\n",
      "Your bmi is : 23.66691015339664\n"
     ]
    }
   ],
   "source": [
    "height = float(input(\"Enter you height in meters : \"))\n",
    "weight = float(input(\"Enter you weight in kg : \"))\n",
    "\n",
    "bmi = weight/(height**2)\n",
    "print(\"Your bmi is :\", bmi)"
   ]
  },
  {
   "cell_type": "code",
   "execution_count": null,
   "metadata": {},
   "outputs": [],
   "source": []
  },
  {
   "cell_type": "markdown",
   "metadata": {},
   "source": [
    "Q4"
   ]
  },
  {
   "cell_type": "code",
   "execution_count": 12,
   "metadata": {},
   "outputs": [
    {
     "name": "stdout",
     "output_type": "stream",
     "text": [
      "Enter your age : 20\n",
      "200\n",
      "140.0\n",
      "170.0\n"
     ]
    }
   ],
   "source": [
    "age = int(input('Enter your age : '))\n",
    "\n",
    "max_hrate = 220-age\n",
    "high_rate = max_hrate*70/100\n",
    "low_rate = max_hrate*85/100\n",
    "\n",
    "print(max_hrate)\n",
    "print(high_rate)\n",
    "print(low_rate)"
   ]
  },
  {
   "cell_type": "code",
   "execution_count": null,
   "metadata": {},
   "outputs": [],
   "source": []
  },
  {
   "cell_type": "markdown",
   "metadata": {},
   "source": [
    "Q5"
   ]
  },
  {
   "cell_type": "code",
   "execution_count": 13,
   "metadata": {},
   "outputs": [
    {
     "name": "stdout",
     "output_type": "stream",
     "text": [
      "Enter assignment 1 marks : 50\n",
      "Enter assignment 2 marks : 60\n",
      "Enter assignment 3 marks : 70\n",
      "Enter exam 1 marks : 80\n",
      "Enter exam 3 marks : 90\n",
      "The score is :  77.5\n"
     ]
    }
   ],
   "source": [
    "m_ass1 = float(input(\"Enter assignment 1 marks : \"))\n",
    "m_ass2 = float(input(\"Enter assignment 2 marks : \"))\n",
    "m_ass3 = float(input(\"Enter assignment 3 marks : \"))\n",
    "m_exam1 = float(input(\"Enter exam 1 marks : \"))\n",
    "m_exam2 = float(input(\"Enter exam 3 marks : \"))\n",
    "\n",
    "weighted_score = (m_ass1+m_ass2+m_ass3)*0.1 + (m_exam1+m_exam2)*0.35\n",
    "print('The score is : ', weighted_score)"
   ]
  },
  {
   "cell_type": "code",
   "execution_count": null,
   "metadata": {},
   "outputs": [],
   "source": []
  }
 ],
 "metadata": {
  "kernelspec": {
   "display_name": "Python 3",
   "language": "python",
   "name": "python3"
  },
  "language_info": {
   "codemirror_mode": {
    "name": "ipython",
    "version": 3
   },
   "file_extension": ".py",
   "mimetype": "text/x-python",
   "name": "python",
   "nbconvert_exporter": "python",
   "pygments_lexer": "ipython3",
   "version": "3.7.3"
  }
 },
 "nbformat": 4,
 "nbformat_minor": 2
}
