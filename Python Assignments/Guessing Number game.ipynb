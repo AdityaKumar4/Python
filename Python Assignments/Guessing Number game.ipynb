{
 "cells": [
  {
   "cell_type": "code",
   "execution_count": 2,
   "metadata": {},
   "outputs": [],
   "source": [
    "import random"
   ]
  },
  {
   "cell_type": "code",
   "execution_count": 3,
   "metadata": {},
   "outputs": [
    {
     "name": "stdout",
     "output_type": "stream",
     "text": [
      "6\n"
     ]
    }
   ],
   "source": [
    "import random\n",
    "\n",
    "s_num = random.randint(0, 10)\n",
    "print(s_num)"
   ]
  },
  {
   "cell_type": "code",
   "execution_count": 3,
   "metadata": {},
   "outputs": [
    {
     "name": "stdout",
     "output_type": "stream",
     "text": [
      "Enter the guess : 8\n",
      "You loose!\n",
      "The secret number is : 10 \n",
      "Your guess is : 8\n"
     ]
    }
   ],
   "source": [
    "g_num = int(input(\"Enter the guess : \"))\n",
    "if (g_num == s_num):\n",
    "    print(\"You won the game!\")\n",
    "else:\n",
    "    print(\"You loose!\")\n",
    "    print(\"The secret number is : {} \\nYour guess is : {}\".format(s_num, g_num))"
   ]
  },
  {
   "cell_type": "code",
   "execution_count": 4,
   "metadata": {},
   "outputs": [
    {
     "name": "stdout",
     "output_type": "stream",
     "text": [
      "Enter the guess : 5\n",
      "You loose!\n",
      "Too LOW\n"
     ]
    }
   ],
   "source": [
    "g_num = int(input(\"Enter the guess : \"))\n",
    "if (g_num == s_num):\n",
    "    print(\"You won the game!\")\n",
    "else:\n",
    "    print(\"You loose!\")\n",
    "    if (abs(g_num-s_num)>2):\n",
    "        if(g_num-s_num>0):\n",
    "            print(\"Too HIGH\")\n",
    "        else:\n",
    "            print(\"Too LOW\")\n",
    "    else:\n",
    "        if(g_num-s_num>0):\n",
    "            print(\"HIGH\")\n",
    "        else:\n",
    "            print(\"LOW\")"
   ]
  },
  {
   "cell_type": "code",
   "execution_count": 2,
   "metadata": {},
   "outputs": [
    {
     "name": "stdout",
     "output_type": "stream",
     "text": [
      "0\n",
      "Enter the guess : 1\n",
      "You loose!\n",
      "Number of tries left is  5\n",
      "Enter the guess : 2\n",
      "You loose!\n",
      "Number of tries left is  4\n",
      "Enter the guess : 6\n",
      "You loose!\n",
      "Number of tries left is  3\n",
      "Enter the guess : 5\n",
      "You loose!\n",
      "Number of tries left is  2\n",
      "Enter the guess : 1\n",
      "You loose!\n",
      "Number of tries left is  1\n",
      "Enter the guess : 3\n",
      "You loose!\n",
      "Number of tries left is  0\n"
     ]
    }
   ],
   "source": [
    "import random\n",
    "\n",
    "s_num = random.randint(0, 10)\n",
    "print(s_num)\n",
    "\n",
    "count = 0\n",
    "\n",
    "while (count<6):\n",
    "    g_num = int(input(\"Enter the guess : \"))\n",
    "    if (g_num == s_num):\n",
    "        print(\"You won the game!\")\n",
    "    else:\n",
    "        print(\"You loose!\")\n",
    "        print(\"Number of tries left is \", 5-count)\n",
    "    count=count+1"
   ]
  },
  {
   "cell_type": "code",
   "execution_count": 7,
   "metadata": {},
   "outputs": [
    {
     "name": "stdout",
     "output_type": "stream",
     "text": [
      "NUMBER IS :  9 \n",
      "\n",
      "\n",
      "Enter the guess : 5\n",
      "You loose!\n",
      "Play again??     (YES/NO)    yes\n",
      "Enter the guess : 5\n",
      "You loose!\n",
      "Play again??     (YES/NO)    no\n"
     ]
    }
   ],
   "source": [
    "import random\n",
    "\n",
    "s_num = random.randint(0, 10)\n",
    "print(\"NUMBER IS : \", s_num, \"\\n\\n\")\n",
    "\n",
    "choice = 'YES'\n",
    "\n",
    "while (choice.upper() == 'YES'):\n",
    "    user = int(input(\"Enter the guess : \"))\n",
    "    \n",
    "    if (g_num == s_num):\n",
    "        print(\"You won the game!\")\n",
    "    else:\n",
    "        print(\"You loose!\")\n",
    "    choice = input(\"Play again??     (YES/NO)    \")"
   ]
  },
  {
   "cell_type": "code",
   "execution_count": null,
   "metadata": {},
   "outputs": [],
   "source": []
  }
 ],
 "metadata": {
  "kernelspec": {
   "display_name": "Python 3",
   "language": "python",
   "name": "python3"
  },
  "language_info": {
   "codemirror_mode": {
    "name": "ipython",
    "version": 3
   },
   "file_extension": ".py",
   "mimetype": "text/x-python",
   "name": "python",
   "nbconvert_exporter": "python",
   "pygments_lexer": "ipython3",
   "version": "3.7.3"
  }
 },
 "nbformat": 4,
 "nbformat_minor": 2
}
