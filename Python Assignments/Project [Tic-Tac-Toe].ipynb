{
 "cells": [
  {
   "cell_type": "code",
   "execution_count": 7,
   "metadata": {
    "scrolled": true
   },
   "outputs": [],
   "source": [
    "from IPython.display import clear_output\n",
    "\n",
    "def print_board(board):\n",
    "    clear_output()\n",
    "    print('        |        |        ')\n",
    "    print('   {}    |   {}    |   {}    '.format(board[7], board[8], board[9]))\n",
    "    print('        |        |        ')\n",
    "    print('--------------------------')\n",
    "    print('        |        |        ')\n",
    "    print('   {}    |   {}    |   {}    '.format(board[4], board[5], board[6]))\n",
    "    print('        |        |        ')\n",
    "    print('--------------------------')\n",
    "    print('        |        |        ')\n",
    "    print('   {}    |   {}    |   {}    '.format(board[1], board[2], board[3]))\n",
    "    print('        |        |        ')"
   ]
  },
  {
   "cell_type": "code",
   "execution_count": 8,
   "metadata": {},
   "outputs": [],
   "source": [
    "def marker_choice():\n",
    "    marker = ''\n",
    "    \n",
    "    while(marker!= 'O' and marker!= 'X'):\n",
    "        marker = input(\"Player 1 choose X or O: \")\n",
    "    \n",
    "    player1 = marker\n",
    "    if (player1 == 'X'):\n",
    "        player2 = 'O'\n",
    "    else:\n",
    "        player2 = 'X'\n",
    "    \n",
    "    print('\\n')\n",
    "    print('The player 1 is {} and the player 2 is {}.'.format(player1, player2))\n",
    "    \n",
    "    return (player1, player2)"
   ]
  },
  {
   "cell_type": "code",
   "execution_count": 9,
   "metadata": {},
   "outputs": [],
   "source": [
    "def hit(player1, player2, board, flag):\n",
    "    choiceA=0\n",
    "    choiceB=0\n",
    "    print_board(board)\n",
    "    print()\n",
    "    while(board[choiceA]=='#' or board[choiceA] == ' '):   # Ye Condition zyada better lagi mujhe baaki koi pharak nahi h dono mien \n",
    "        choiceA = int(input(\"Player 1 choose your spot: \"))\n",
    "        if (board[choiceA]==' '):\n",
    "            board[choiceA] = player1\n",
    "        \n",
    "    print_board(board)\n",
    "    flag = check_win(board, player1, player2, flag)\n",
    "    if flag != '':\n",
    "        return flag\n",
    "    while(board[choiceB]=='#' or board[choiceB] == ' '):     # Ye Condition zyada better lagi mujhe baaki koi pharak nahi h dono mien\n",
    "        choiceB = int(input(\"Player 2 choose your spot: \"))\n",
    "        if (board[choiceB]==' '):\n",
    "            board[choiceB] = player2\n",
    "        \n",
    "    print_board(board)\n",
    "    flag = check_win(board, player1, player2, flag)    # Isse Compare\n",
    "    return flag"
   ]
  },
  {
   "cell_type": "code",
   "execution_count": 10,
   "metadata": {},
   "outputs": [],
   "source": [
    "def check_win(board,player1, player2, flag):     # Yaha Ka order upar waale order se compare karo\n",
    "    if(board[1]==board[2]==board[3]==player1):\n",
    "        flag='A'\n",
    "    elif(board[4]==board[5]==board[6]==player1):\n",
    "        flag='A'\n",
    "    elif(board[7]==board[8]==board[9]==player1):\n",
    "        flag='A'\n",
    "    elif(board[1]==board[4]==board[7]==player1):\n",
    "        flag='A'\n",
    "    elif(board[2]==board[5]==board[8]==player1):\n",
    "        flag='A'\n",
    "    elif(board[3]==board[6]==board[9]==player1):\n",
    "        flag='A'\n",
    "    elif(board[1]==board[5]==board[9]==player1):\n",
    "        flag='A'\n",
    "    elif(board[3]==board[5]==board[7]==player1):\n",
    "        flag='A'\n",
    "    elif(board[1]==board[2]==board[3]==player2):   # Yaha Bahot zyada nesting ho gayi thi usse complexity bad jaati h code ki\n",
    "        flag='B'                                   # Better option hai ki ek ek karke test karlo zyada tezz hoga\n",
    "    elif(board[4]==board[5]==board[6]==player2):\n",
    "        flag='B'\n",
    "    elif(board[7]==board[8]==board[9]==player2):\n",
    "        flag='B'\n",
    "    elif(board[1]==board[4]==board[7]==player2):   \n",
    "        flag='B'\n",
    "    elif(board[2]==board[5]==board[8]==player2):\n",
    "        flag='B'\n",
    "    elif(board[3]==board[6]==board[9]==player2):\n",
    "        flag='B'\n",
    "    elif(board[1]==board[5]==board[9]==player2):\n",
    "        flag='B'\n",
    "    elif(board[3]==board[5]==board[7]==player2):\n",
    "        flag='B'\n",
    "    elif(board.count(player1)+board.count(player2)==9):\n",
    "        flag='N'\n",
    "    \n",
    "    return flag\n"
   ]
  },
  {
   "cell_type": "code",
   "execution_count": 11,
   "metadata": {},
   "outputs": [],
   "source": [
    "def PLAY_GAME():\n",
    "    board = ['#', ' ', ' ', ' ', ' ', ' ', ' ', ' ', ' ', ' ']\n",
    "    flag=''\n",
    "    player1=''\n",
    "    player2=''\n",
    "    \n",
    "    player1, player2 = marker_choice()\n",
    "    while(flag==''):\n",
    "        flag = hit(player1, player2, board, flag)\n",
    "        \n",
    "    if(flag=='A'):\n",
    "        print('**Player 1 WINS!**')\n",
    "    elif(flag=='B'):\n",
    "        print(\"**Player 2 WINS!**\")\n",
    "    else:\n",
    "        print('*!*DRAW*!*')"
   ]
  },
  {
   "cell_type": "code",
   "execution_count": null,
   "metadata": {},
   "outputs": [],
   "source": []
  },
  {
   "cell_type": "code",
   "execution_count": 12,
   "metadata": {
    "scrolled": true
   },
   "outputs": [
    {
     "name": "stdout",
     "output_type": "stream",
     "text": [
      "        |        |        \n",
      "   X    |        |   O    \n",
      "        |        |        \n",
      "--------------------------\n",
      "        |        |        \n",
      "   X    |   O    |        \n",
      "        |        |        \n",
      "--------------------------\n",
      "        |        |        \n",
      "   X    |        |        \n",
      "        |        |        \n",
      "**Player 1 WINS!**\n"
     ]
    }
   ],
   "source": [
    "print(\"Welcome to the game of Tic-Tac-Toe\")\n",
    "\n",
    "play_once=input(\"Do you want to play the game:   YES/NO    \")\n",
    "if (play_once.lower()=='yes'):\n",
    "    PLAY_GAME()\n",
    "else:\n",
    "    print(\"Have a nice day.\")"
   ]
  },
  {
   "cell_type": "code",
   "execution_count": null,
   "metadata": {},
   "outputs": [],
   "source": []
  },
  {
   "cell_type": "code",
   "execution_count": null,
   "metadata": {},
   "outputs": [],
   "source": []
  },
  {
   "cell_type": "code",
   "execution_count": null,
   "metadata": {},
   "outputs": [],
   "source": []
  }
 ],
 "metadata": {
  "kernelspec": {
   "display_name": "Python 3",
   "language": "python",
   "name": "python3"
  },
  "language_info": {
   "codemirror_mode": {
    "name": "ipython",
    "version": 3
   },
   "file_extension": ".py",
   "mimetype": "text/x-python",
   "name": "python",
   "nbconvert_exporter": "python",
   "pygments_lexer": "ipython3",
   "version": "3.8.3"
  }
 },
 "nbformat": 4,
 "nbformat_minor": 2
}
