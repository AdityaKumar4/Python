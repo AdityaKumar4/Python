{
 "cells": [
  {
   "cell_type": "code",
   "execution_count": 2,
   "metadata": {},
   "outputs": [
    {
     "name": "stdout",
     "output_type": "stream",
     "text": [
      "Enter the number : 2\n",
      "5\n",
      "25\n"
     ]
    }
   ],
   "source": [
    "n = int(input(\"Enter the number : \"))\n",
    "\n",
    "for i in range (0, n):\n",
    "    print(5**(i+1))"
   ]
  },
  {
   "cell_type": "code",
   "execution_count": null,
   "metadata": {},
   "outputs": [],
   "source": []
  },
  {
   "cell_type": "code",
   "execution_count": 10,
   "metadata": {},
   "outputs": [
    {
     "name": "stdout",
     "output_type": "stream",
     "text": [
      "Enter the number : 5\n",
      "Kilogram                 Gram\n",
      "   1                     1000\n",
      "   2                     2000\n",
      "   3                     3000\n",
      "   4                     4000\n",
      "   5                     5000\n"
     ]
    }
   ],
   "source": [
    "n = int(input(\"Enter the number : \"))\n",
    "\n",
    "print(\"Kilogram                 Gram\")\n",
    "for i in range (1, n+1):\n",
    "    print(\"   {}                     {}\".format(i, i*1000))"
   ]
  },
  {
   "cell_type": "code",
   "execution_count": null,
   "metadata": {},
   "outputs": [],
   "source": []
  },
  {
   "cell_type": "code",
   "execution_count": 11,
   "metadata": {},
   "outputs": [
    {
     "name": "stdout",
     "output_type": "stream",
     "text": [
      "Enter the number : 5\n",
      "1\n",
      "4\n",
      "9\n",
      "16\n",
      "25\n"
     ]
    }
   ],
   "source": [
    "n = int(input(\"Enter the number : \"))\n",
    "\n",
    "for i in range (1, n+1):\n",
    "    print(i**2)"
   ]
  },
  {
   "cell_type": "code",
   "execution_count": null,
   "metadata": {},
   "outputs": [],
   "source": []
  },
  {
   "cell_type": "code",
   "execution_count": 17,
   "metadata": {},
   "outputs": [
    {
     "name": "stdout",
     "output_type": "stream",
     "text": [
      "25250\n"
     ]
    }
   ],
   "source": [
    "x=0\n",
    "\n",
    "while (1):\n",
    "    for i in range(0, 501, 5):\n",
    "        x=x+i\n",
    "    break\n",
    "print(x)"
   ]
  },
  {
   "cell_type": "code",
   "execution_count": null,
   "metadata": {},
   "outputs": [],
   "source": []
  },
  {
   "cell_type": "code",
   "execution_count": 26,
   "metadata": {},
   "outputs": [
    {
     "name": "stdout",
     "output_type": "stream",
     "text": [
      "Enter the number : 2.12345\n",
      "[1, 2, 3, 4, 5]\n"
     ]
    }
   ],
   "source": [
    "n = float(input(\"Enter the number : \"))\n",
    "x=n\n",
    "y=1\n",
    "decimals = []\n",
    "while(y!=0):\n",
    "    x=x*10\n",
    "    y=int(x%10)\n",
    "    if(y==0):\n",
    "        break\n",
    "    decimals.append(y)\n",
    "    \n",
    "print(decimals)"
   ]
  },
  {
   "cell_type": "code",
   "execution_count": null,
   "metadata": {},
   "outputs": [],
   "source": []
  },
  {
   "cell_type": "code",
   "execution_count": 29,
   "metadata": {},
   "outputs": [
    {
     "name": "stdout",
     "output_type": "stream",
     "text": [
      "Enter the password : hello\n",
      "Try again\n",
      "Enter the password : python\n",
      "Try again\n",
      "Enter the password : Python\n",
      "You are welcome.\n"
     ]
    }
   ],
   "source": [
    "password = 'Python'\n",
    "\n",
    "for i in range (0, 3):\n",
    "    guess = input(\"Enter the password : \")\n",
    "    if (guess == password):\n",
    "        print(\"You are welcome.\")\n",
    "    else :\n",
    "        print('Try again')"
   ]
  },
  {
   "cell_type": "code",
   "execution_count": null,
   "metadata": {},
   "outputs": [],
   "source": []
  },
  {
   "cell_type": "code",
   "execution_count": 31,
   "metadata": {},
   "outputs": [
    {
     "name": "stdout",
     "output_type": "stream",
     "text": [
      "Enter the price of chocolate : 1\n",
      "Enter the price of chocolate : 2\n",
      "Enter the price of chocolate : 3\n",
      "Enter the price of chocolate : 4\n",
      "Enter the price of chocolate : 5\n",
      "105\n",
      "[1, 2, 3, 4, 5]\n"
     ]
    }
   ],
   "source": [
    "price = []\n",
    "\n",
    "for j in range(0, 5):\n",
    "    p = int(input(\"Enter the price of chocolate : \"))\n",
    "    price.append(p)\n",
    "        \n",
    "print(sum(price)*7)\n",
    "print(price)"
   ]
  },
  {
   "cell_type": "code",
   "execution_count": null,
   "metadata": {},
   "outputs": [],
   "source": []
  }
 ],
 "metadata": {
  "kernelspec": {
   "display_name": "Python 3",
   "language": "python",
   "name": "python3"
  },
  "language_info": {
   "codemirror_mode": {
    "name": "ipython",
    "version": 3
   },
   "file_extension": ".py",
   "mimetype": "text/x-python",
   "name": "python",
   "nbconvert_exporter": "python",
   "pygments_lexer": "ipython3",
   "version": "3.7.3"
  }
 },
 "nbformat": 4,
 "nbformat_minor": 2
}
