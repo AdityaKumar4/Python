{
 "cells": [
  {
   "cell_type": "code",
   "execution_count": 3,
   "metadata": {},
   "outputs": [
    {
     "name": "stdout",
     "output_type": "stream",
     "text": [
      "Enter the marks : 90\n",
      "Enter the marks : 90\n",
      "Enter the marks : 90\n",
      "Enter the marks : 90\n",
      "Enter the marks : 90\n",
      "The total marks is  450\n",
      "The percentage is  90.0\n"
     ]
    }
   ],
   "source": [
    "score = []\n",
    "\n",
    "for marks in range (0, 5):\n",
    "    x = int(input('Enter the marks : '))\n",
    "    score.append(x)\n",
    "    \n",
    "total = sum(score)\n",
    "percentage = (total/500)*100\n",
    "\n",
    "print(\"The total marks is \", total)\n",
    "print(\"The percentage is \", percentage)"
   ]
  },
  {
   "cell_type": "code",
   "execution_count": null,
   "metadata": {},
   "outputs": [],
   "source": []
  },
  {
   "cell_type": "code",
   "execution_count": 9,
   "metadata": {},
   "outputs": [
    {
     "name": "stdout",
     "output_type": "stream",
     "text": [
      "Enter the number : 1234\n",
      "[4, 3, 2, 1]\n",
      "10\n"
     ]
    }
   ],
   "source": [
    "num = int(input('Enter the number : '))\n",
    "x=num\n",
    "digits = []\n",
    "while (x!=0):\n",
    "    y = x%10\n",
    "    x = x//10\n",
    "    digits.append(y)\n",
    "    \n",
    "print(digits)\n",
    "print(sum(digits))\n",
    "    "
   ]
  },
  {
   "cell_type": "code",
   "execution_count": null,
   "metadata": {},
   "outputs": [],
   "source": []
  },
  {
   "cell_type": "code",
   "execution_count": 10,
   "metadata": {},
   "outputs": [
    {
     "name": "stdout",
     "output_type": "stream",
     "text": [
      "Enter the distance between two cities : 12\n",
      "The distance in meters :  12000\n",
      "The distance in centimeters :  1200000\n",
      "The distance in miles :  7.4556\n"
     ]
    }
   ],
   "source": [
    "d = int(input('Enter the distance between two cities : '))\n",
    "\n",
    "print('The distance in meters : ', d*1000)\n",
    "print('The distance in centimeters : ', d*100000)\n",
    "print('The distance in miles : ', d*0.6213)"
   ]
  },
  {
   "cell_type": "code",
   "execution_count": null,
   "metadata": {},
   "outputs": [],
   "source": []
  },
  {
   "cell_type": "code",
   "execution_count": 11,
   "metadata": {},
   "outputs": [
    {
     "name": "stdout",
     "output_type": "stream",
     "text": [
      "Enter no of hundred rupees notes : 4\n",
      "Enter no of five hundred rupees notes : 3\n",
      "Enter no of thousand rupees notes : 1\n",
      "The total amount withdrawn is :  2900\n"
     ]
    }
   ],
   "source": [
    "hundred = int(input(\"Enter no of hundred rupees notes : \"))\n",
    "five_hund = int(input(\"Enter no of five hundred rupees notes : \"))\n",
    "thousand = int(input(\"Enter no of thousand rupees notes : \"))\n",
    "\n",
    "total = hundred*100 + five_hund*500 + thousand*1000\n",
    "print(\"The total amount withdrawn is : \", total)"
   ]
  },
  {
   "cell_type": "code",
   "execution_count": null,
   "metadata": {},
   "outputs": [],
   "source": []
  }
 ],
 "metadata": {
  "kernelspec": {
   "display_name": "Python 3",
   "language": "python",
   "name": "python3"
  },
  "language_info": {
   "codemirror_mode": {
    "name": "ipython",
    "version": 3
   },
   "file_extension": ".py",
   "mimetype": "text/x-python",
   "name": "python",
   "nbconvert_exporter": "python",
   "pygments_lexer": "ipython3",
   "version": "3.7.3"
  }
 },
 "nbformat": 4,
 "nbformat_minor": 2
}
