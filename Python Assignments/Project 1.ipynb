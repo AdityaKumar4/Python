{
 "cells": [
  {
   "cell_type": "code",
   "execution_count": 13,
   "metadata": {},
   "outputs": [
    {
     "name": "stdout",
     "output_type": "stream",
     "text": [
      "        |        |        \n",
      "        |        |        \n",
      "        |        |        \n",
      "--------------------------\n",
      "        |        |        \n",
      "        |        |        \n",
      "        |        |        \n",
      "--------------------------\n",
      "        |        |        \n",
      "        |        |        \n",
      "        |        |        \n"
     ]
    }
   ],
   "source": [
    "v1=''\n",
    "v2=''\n",
    "v3=''\n",
    "v4=''\n",
    "v5=''\n",
    "v6=''\n",
    "v7=''\n",
    "v8=''\n",
    "v9=''\n",
    "\n",
    "def print_board():\n",
    "    print('        |        |        ')\n",
    "    print('    {}    |    {}    |    {}    '.format(v7, v8, v9))\n",
    "    print('        |        |        ')\n",
    "    print('--------------------------')\n",
    "    print('        |        |        ')\n",
    "    print('    {}    |    {}    |    {}    '.format(v4, v5, v6))\n",
    "    print('        |        |        ')\n",
    "    print('--------------------------')\n",
    "    print('        |        |        ')\n",
    "    print('    {}    |    {}    |    {}    '.format(v1, v2, v3))\n",
    "    print('        |        |        ')\n",
    "\n",
    "print_board()"
   ]
  },
  {
   "cell_type": "code",
   "execution_count": 16,
   "metadata": {},
   "outputs": [],
   "source": [
    "def hit():\n",
    "    choice = int(input(\"Player 1 choose your spot: \"))\n",
    "    if(choice==1):\n",
    "        v1='x'\n",
    "    elif(choice==2):\n",
    "        v2='x'\n",
    "    elif(choice==3):\n",
    "        v3='x'\n",
    "    elif(choice==4):\n",
    "        v4='x'\n",
    "    elif(choice==5):\n",
    "        v5='x'\n",
    "    elif(choice==6):\n",
    "        v6='x'\n",
    "    elif(choice==7):\n",
    "        v7='x'\n",
    "    elif(choice==8):\n",
    "        v8='x'\n",
    "    elif(choice==9):\n",
    "        v9='x'\n",
    "        \n",
    "    print_board()\n",
    "    \n",
    "    choice = int(input(\"Player 2 choose your spot: \"))\n",
    "    if(choice==1):\n",
    "        v1='o'\n",
    "    elif(choice==2):\n",
    "        v2='o'\n",
    "    elif(choice==3):\n",
    "        v3='o'\n",
    "    elif(choice==4):\n",
    "        v4='o'\n",
    "    elif(choice==5):\n",
    "        v5='o'\n",
    "    elif(choice==6):\n",
    "        v6='o'\n",
    "    elif(choice==7):\n",
    "        v7='o'\n",
    "    elif(choice==8):\n",
    "        v8='o'\n",
    "    elif(choice==9):\n",
    "        v9='o'\n",
    "    \n",
    "    print_board()"
   ]
  },
  {
   "cell_type": "code",
   "execution_count": 17,
   "metadata": {},
   "outputs": [
    {
     "name": "stdout",
     "output_type": "stream",
     "text": [
      "Player 1 choose your spot: 5\n",
      "        |        |        \n",
      "        |        |        \n",
      "        |        |        \n",
      "--------------------------\n",
      "        |        |        \n",
      "        |        |        \n",
      "        |        |        \n",
      "--------------------------\n",
      "        |        |        \n",
      "        |        |        \n",
      "        |        |        \n",
      "Player 2 choose your spot: 4\n",
      "        |        |        \n",
      "        |        |        \n",
      "        |        |        \n",
      "--------------------------\n",
      "        |        |        \n",
      "        |        |        \n",
      "        |        |        \n",
      "--------------------------\n",
      "        |        |        \n",
      "        |        |        \n",
      "        |        |        \n"
     ]
    }
   ],
   "source": [
    "hit()"
   ]
  },
  {
   "cell_type": "code",
   "execution_count": null,
   "metadata": {},
   "outputs": [],
   "source": []
  }
 ],
 "metadata": {
  "kernelspec": {
   "display_name": "Python 3",
   "language": "python",
   "name": "python3"
  },
  "language_info": {
   "codemirror_mode": {
    "name": "ipython",
    "version": 3
   },
   "file_extension": ".py",
   "mimetype": "text/x-python",
   "name": "python",
   "nbconvert_exporter": "python",
   "pygments_lexer": "ipython3",
   "version": "3.7.3"
  }
 },
 "nbformat": 4,
 "nbformat_minor": 2
}
