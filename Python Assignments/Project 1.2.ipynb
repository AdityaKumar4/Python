{
 "cells": [
  {
   "cell_type": "code",
   "execution_count": 13,
   "metadata": {
    "scrolled": true
   },
   "outputs": [],
   "source": [
    "from IPython.display import clear_output\n",
    "\n",
    "board = [' ', ' ', ' ', ' ', ' ', ' ', ' ', ' ', ' ', ' ']\n",
    "\n",
    "def print_board():\n",
    "    clear_output()\n",
    "    print('        |        |        ')\n",
    "    print('   {}    |   {}    |   {}    '.format(board[7], board[8], board[9]))\n",
    "    print('        |        |        ')\n",
    "    print('--------------------------')\n",
    "    print('        |        |        ')\n",
    "    print('   {}    |   {}    |   {}    '.format(board[4], board[5], board[6]))\n",
    "    print('        |        |        ')\n",
    "    print('--------------------------')\n",
    "    print('        |        |        ')\n",
    "    print('   {}    |   {}    |   {}    '.format(board[1], board[2], board[3]))\n",
    "    print('        |        |        ')"
   ]
  },
  {
   "cell_type": "code",
   "execution_count": 21,
   "metadata": {},
   "outputs": [],
   "source": [
    "def marker_choice():\n",
    "    marker = ''\n",
    "    \n",
    "    while(marker!= 'O' and marker!= 'X'):\n",
    "        marker = input(\"Player 1 choose X or O: \")\n",
    "    \n",
    "    player1 = marker\n",
    "    if (player1 == 'X'):\n",
    "        player2 = 'O'\n",
    "    else:\n",
    "        player2 = 'X'\n",
    "    \n",
    "    print('\\n')\n",
    "    print('The player 1 is {} and the player 2 is {}.'.format(player1, player2))\n",
    "    \n",
    "    return (player1, player2)"
   ]
  },
  {
   "cell_type": "code",
   "execution_count": 34,
   "metadata": {},
   "outputs": [],
   "source": [
    "def hit():\n",
    "    choiceA=0\n",
    "    choiceB=0\n",
    "    \n",
    "    while(board[choiceA]==' '):\n",
    "        choiceA = int(input(\"Player 1 choose your spot: \"))\n",
    "        if (board[choiceA]==' '):\n",
    "            board[choiceA] = player1\n",
    "        else:\n",
    "            continue\n",
    "    print_board()\n",
    "    \n",
    "    while(board[choiceB]==' '):\n",
    "        choiceB = int(input(\"Player 2 choose your spot: \"))\n",
    "        if (board[choiceA]==' '):\n",
    "            board[choiceB] = player2\n",
    "        else:\n",
    "            continue\n",
    "        \n",
    "    print_board()"
   ]
  },
  {
   "cell_type": "code",
   "execution_count": 16,
   "metadata": {},
   "outputs": [
    {
     "name": "stdout",
     "output_type": "stream",
     "text": [
      "Welcome to the game of Tic-Tac-Toe\n"
     ]
    }
   ],
   "source": [
    "print(\"Welcome to the game of Tic-Tac-Toe\")\n",
    "\n",
    "player1=''\n",
    "player2=''"
   ]
  },
  {
   "cell_type": "code",
   "execution_count": 24,
   "metadata": {},
   "outputs": [
    {
     "name": "stdout",
     "output_type": "stream",
     "text": [
      "Player 1 choose X or O: X\n",
      "\n",
      "\n",
      "The player 1 is X and the player 2 is O.\n"
     ]
    }
   ],
   "source": [
    "player1, player2 = marker_choice()\n"
   ]
  },
  {
   "cell_type": "code",
   "execution_count": null,
   "metadata": {
    "scrolled": true
   },
   "outputs": [
    {
     "name": "stdout",
     "output_type": "stream",
     "text": [
      "        |        |        \n",
      "        |   O    |        \n",
      "        |        |        \n",
      "--------------------------\n",
      "        |        |        \n",
      "        |   X    |   X    \n",
      "        |        |        \n",
      "--------------------------\n",
      "        |        |        \n",
      "        |        |        \n",
      "        |        |        \n",
      "Player 2 choose your spot: 9\n",
      "Player 2 choose your spot: 9\n"
     ]
    }
   ],
   "source": [
    "hit()"
   ]
  },
  {
   "cell_type": "code",
   "execution_count": 35,
   "metadata": {},
   "outputs": [
    {
     "data": {
      "text/plain": [
       "[' ', ' ', ' ', ' ', ' ', 'X', 'X', ' ', 'O', ' ']"
      ]
     },
     "execution_count": 35,
     "metadata": {},
     "output_type": "execute_result"
    }
   ],
   "source": [
    "list(board)"
   ]
  },
  {
   "cell_type": "code",
   "execution_count": null,
   "metadata": {},
   "outputs": [],
   "source": []
  }
 ],
 "metadata": {
  "kernelspec": {
   "display_name": "Python 3",
   "language": "python",
   "name": "python3"
  },
  "language_info": {
   "codemirror_mode": {
    "name": "ipython",
    "version": 3
   },
   "file_extension": ".py",
   "mimetype": "text/x-python",
   "name": "python",
   "nbconvert_exporter": "python",
   "pygments_lexer": "ipython3",
   "version": "3.7.3"
  }
 },
 "nbformat": 4,
 "nbformat_minor": 2
}
